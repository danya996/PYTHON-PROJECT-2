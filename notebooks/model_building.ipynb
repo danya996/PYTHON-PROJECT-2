{
 "cells": [
  {
   "cell_type": "code",
   "execution_count": 1,
   "id": "3a85ab36",
   "metadata": {},
   "outputs": [],
   "source": [
    "import pandas as pd\n",
    "import statsmodels.api as sm"
   ]
  },
  {
   "cell_type": "code",
   "execution_count": 2,
   "id": "af951635",
   "metadata": {},
   "outputs": [
    {
     "data": {
      "text/html": [
       "<div>\n",
       "<style scoped>\n",
       "    .dataframe tbody tr th:only-of-type {\n",
       "        vertical-align: middle;\n",
       "    }\n",
       "\n",
       "    .dataframe tbody tr th {\n",
       "        vertical-align: top;\n",
       "    }\n",
       "\n",
       "    .dataframe thead th {\n",
       "        text-align: right;\n",
       "    }\n",
       "</style>\n",
       "<table border=\"1\" class=\"dataframe\">\n",
       "  <thead>\n",
       "    <tr style=\"text-align: right;\">\n",
       "      <th></th>\n",
       "      <th>latitude_rounded</th>\n",
       "      <th>longitude_rounded</th>\n",
       "      <th>num_bikes</th>\n",
       "      <th>name_foursquare</th>\n",
       "      <th>category</th>\n",
       "      <th>name_yelp</th>\n",
       "      <th>rating</th>\n",
       "    </tr>\n",
       "  </thead>\n",
       "  <tbody>\n",
       "    <tr>\n",
       "      <th>0</th>\n",
       "      <td>50.926</td>\n",
       "      <td>6.957</td>\n",
       "      <td>0</td>\n",
       "      <td>Toscanini</td>\n",
       "      <td>Pizzeria</td>\n",
       "      <td>Toscanini</td>\n",
       "      <td>4.5</td>\n",
       "    </tr>\n",
       "    <tr>\n",
       "      <th>1</th>\n",
       "      <td>50.935</td>\n",
       "      <td>6.961</td>\n",
       "      <td>0</td>\n",
       "      <td>Brauerei zur Malzmühle, Gaststätte</td>\n",
       "      <td>Restaurant</td>\n",
       "      <td>HÖHNERStall</td>\n",
       "      <td>4.1</td>\n",
       "    </tr>\n",
       "    <tr>\n",
       "      <th>2</th>\n",
       "      <td>50.922</td>\n",
       "      <td>6.960</td>\n",
       "      <td>0</td>\n",
       "      <td>Lalezar</td>\n",
       "      <td>Turkish Restaurant</td>\n",
       "      <td>FRÜH \"Em Veedel\"</td>\n",
       "      <td>4.1</td>\n",
       "    </tr>\n",
       "    <tr>\n",
       "      <th>3</th>\n",
       "      <td>50.922</td>\n",
       "      <td>6.960</td>\n",
       "      <td>0</td>\n",
       "      <td>Früh em Veedel</td>\n",
       "      <td>Rhenisch Restaurant</td>\n",
       "      <td>FRÜH \"Em Veedel\"</td>\n",
       "      <td>4.1</td>\n",
       "    </tr>\n",
       "    <tr>\n",
       "      <th>4</th>\n",
       "      <td>50.922</td>\n",
       "      <td>6.960</td>\n",
       "      <td>0</td>\n",
       "      <td>Restaurant und Eiscafe Da Franco</td>\n",
       "      <td>Ice Cream Parlor</td>\n",
       "      <td>FRÜH \"Em Veedel\"</td>\n",
       "      <td>4.1</td>\n",
       "    </tr>\n",
       "  </tbody>\n",
       "</table>\n",
       "</div>"
      ],
      "text/plain": [
       "   latitude_rounded  longitude_rounded  num_bikes  \\\n",
       "0            50.926              6.957          0   \n",
       "1            50.935              6.961          0   \n",
       "2            50.922              6.960          0   \n",
       "3            50.922              6.960          0   \n",
       "4            50.922              6.960          0   \n",
       "\n",
       "                      name_foursquare             category         name_yelp  \\\n",
       "0                           Toscanini             Pizzeria         Toscanini   \n",
       "1  Brauerei zur Malzmühle, Gaststätte           Restaurant       HÖHNERStall   \n",
       "2                             Lalezar   Turkish Restaurant  FRÜH \"Em Veedel\"   \n",
       "3                      Früh em Veedel  Rhenisch Restaurant  FRÜH \"Em Veedel\"   \n",
       "4    Restaurant und Eiscafe Da Franco     Ice Cream Parlor  FRÜH \"Em Veedel\"   \n",
       "\n",
       "   rating  \n",
       "0     4.5  \n",
       "1     4.1  \n",
       "2     4.1  \n",
       "3     4.1  \n",
       "4     4.1  "
      ]
     },
     "execution_count": 2,
     "metadata": {},
     "output_type": "execute_result"
    }
   ],
   "source": [
    "merged_df = pd.read_csv('part3_merged_data.csv')\n",
    "merged_df.head()"
   ]
  },
  {
   "cell_type": "code",
   "execution_count": 3,
   "id": "ad65af51",
   "metadata": {},
   "outputs": [
    {
     "name": "stdout",
     "output_type": "stream",
     "text": [
      "<class 'pandas.core.frame.DataFrame'>\n",
      "RangeIndex: 63 entries, 0 to 62\n",
      "Data columns (total 7 columns):\n",
      " #   Column             Non-Null Count  Dtype  \n",
      "---  ------             --------------  -----  \n",
      " 0   latitude_rounded   63 non-null     float64\n",
      " 1   longitude_rounded  63 non-null     float64\n",
      " 2   num_bikes          63 non-null     int64  \n",
      " 3   name_foursquare    63 non-null     object \n",
      " 4   category           63 non-null     object \n",
      " 5   name_yelp          63 non-null     object \n",
      " 6   rating             63 non-null     float64\n",
      "dtypes: float64(3), int64(1), object(3)\n",
      "memory usage: 3.6+ KB\n"
     ]
    }
   ],
   "source": [
    "merged_df.info()"
   ]
  },
  {
   "cell_type": "code",
   "execution_count": 4,
   "id": "4057a09a",
   "metadata": {},
   "outputs": [],
   "source": [
    "X = merged_df[['rating']] \n",
    "y = merged_df['num_bikes']  "
   ]
  },
  {
   "cell_type": "code",
   "execution_count": 5,
   "id": "59c7b7b1",
   "metadata": {},
   "outputs": [],
   "source": [
    "# Add a constant term to fit the intercept\n",
    "X = sm.add_constant(X)"
   ]
  },
  {
   "cell_type": "code",
   "execution_count": 6,
   "id": "e4296611",
   "metadata": {},
   "outputs": [],
   "source": [
    "# Construct and fit the model\n",
    "model = sm.OLS(y, X).fit()"
   ]
  },
  {
   "cell_type": "code",
   "execution_count": 7,
   "id": "2de6525f",
   "metadata": {},
   "outputs": [
    {
     "name": "stdout",
     "output_type": "stream",
     "text": [
      "                            OLS Regression Results                            \n",
      "==============================================================================\n",
      "Dep. Variable:              num_bikes   R-squared:                       0.015\n",
      "Model:                            OLS   Adj. R-squared:                 -0.001\n",
      "Method:                 Least Squares   F-statistic:                    0.9487\n",
      "Date:                Wed, 17 Apr 2024   Prob (F-statistic):              0.334\n",
      "Time:                        17:50:56   Log-Likelihood:                -89.930\n",
      "No. Observations:                  63   AIC:                             183.9\n",
      "Df Residuals:                      61   BIC:                             188.1\n",
      "Df Model:                           1                                         \n",
      "Covariance Type:            nonrobust                                         \n",
      "==============================================================================\n",
      "                 coef    std err          t      P>|t|      [0.025      0.975]\n",
      "------------------------------------------------------------------------------\n",
      "const         -0.2744      0.910     -0.301      0.764      -2.095       1.546\n",
      "rating         0.2212      0.227      0.974      0.334      -0.233       0.675\n",
      "==============================================================================\n",
      "Omnibus:                       65.418   Durbin-Watson:                   0.899\n",
      "Prob(Omnibus):                  0.000   Jarque-Bera (JB):              481.133\n",
      "Skew:                           2.926   Prob(JB):                    3.34e-105\n",
      "Kurtosis:                      15.208   Cond. No.                         30.0\n",
      "==============================================================================\n",
      "\n",
      "Notes:\n",
      "[1] Standard Errors assume that the covariance matrix of the errors is correctly specified.\n"
     ]
    }
   ],
   "source": [
    "# Output model results\n",
    "model_summary = model.summary()\n",
    "print(model_summary)"
   ]
  },
  {
   "cell_type": "code",
   "execution_count": null,
   "id": "1530e7ce",
   "metadata": {},
   "outputs": [],
   "source": []
  }
 ],
 "metadata": {
  "kernelspec": {
   "display_name": "Python 3 (ipykernel)",
   "language": "python",
   "name": "python3"
  },
  "language_info": {
   "codemirror_mode": {
    "name": "ipython",
    "version": 3
   },
   "file_extension": ".py",
   "mimetype": "text/x-python",
   "name": "python",
   "nbconvert_exporter": "python",
   "pygments_lexer": "ipython3",
   "version": "3.11.5"
  }
 },
 "nbformat": 4,
 "nbformat_minor": 5
}
